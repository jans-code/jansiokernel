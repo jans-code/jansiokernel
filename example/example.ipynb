{
 "cells": [
  {
   "cell_type": "markdown",
   "id": "3e45bf95-014b-4f1e-bf21-7d04424fc57c",
   "metadata": {},
   "source": [
    "# Use the io language in a jupyter notebook!"
   ]
  },
  {
   "cell_type": "code",
   "execution_count": 1,
   "id": "a73750c8-1b92-4381-9289-d5c0550991fc",
   "metadata": {
    "tags": []
   },
   "outputs": [
    {
     "name": "stdout",
     "output_type": "stream",
     "text": [
      " 5\n",
      " 7\n",
      " 12\n"
     ]
    }
   ],
   "source": [
    "a := 5\n",
    "b := 7\n",
    "a+b"
   ]
  },
  {
   "cell_type": "code",
   "execution_count": 2,
   "id": "b10e9eb8-5938-485c-9f22-8d495002084b",
   "metadata": {
    "tags": []
   },
   "outputs": [
    {
     "name": "stdout",
     "output_type": "stream",
     "text": [
      " 35\n"
     ]
    }
   ],
   "source": [
    "a*b"
   ]
  },
  {
   "cell_type": "code",
   "execution_count": 3,
   "id": "a5c9540e-45a2-418d-bb27-545d8f15c125",
   "metadata": {
    "tags": []
   },
   "outputs": [
    {
     "name": "stdout",
     "output_type": "stream",
     "text": [
      "Hello World!\n",
      "==> Hello World!\n"
     ]
    }
   ],
   "source": [
    "\"Hello World!\" println"
   ]
  }
 ],
 "metadata": {
  "kernelspec": {
   "display_name": "io",
   "language": "",
   "name": "jansiokernel"
  },
  "language_info": {
   "file_extension": ".io",
   "mimetype": "application/io",
   "name": "io"
  }
 },
 "nbformat": 4,
 "nbformat_minor": 5
}
